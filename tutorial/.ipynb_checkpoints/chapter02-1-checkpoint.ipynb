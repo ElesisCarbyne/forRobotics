{
 "cells": [
  {
   "cell_type": "code",
   "execution_count": null,
   "id": "942ad69b-58d0-4087-9485-b93e77441a23",
   "metadata": {},
   "outputs": [],
   "source": [
    "2장부터\n",
    "https://roadbalance_edu.teachable.com/courses/5cee42/lectures/48650227"
   ]
  }
 ],
 "metadata": {
  "kernelspec": {
   "display_name": "Python 3 (ipykernel)",
   "language": "python",
   "name": "python3"
  },
  "language_info": {
   "codemirror_mode": {
    "name": "ipython",
    "version": 3
   },
   "file_extension": ".py",
   "mimetype": "text/x-python",
   "name": "python",
   "nbconvert_exporter": "python",
   "pygments_lexer": "ipython3",
   "version": "3.12.4"
  }
 },
 "nbformat": 4,
 "nbformat_minor": 5
}
