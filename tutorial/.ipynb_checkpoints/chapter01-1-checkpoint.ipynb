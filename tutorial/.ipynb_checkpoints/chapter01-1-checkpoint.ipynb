{
 "cells": [
  {
   "cell_type": "code",
   "execution_count": 2,
   "id": "580dfeb6-115a-435f-ada1-0f7eca9c5334",
   "metadata": {},
   "outputs": [
    {
     "name": "stdout",
     "output_type": "stream",
     "text": [
      "a = \n",
      "[[ 2  4]\n",
      " [ 5 -6]]\n",
      "\n"
     ]
    }
   ],
   "source": [
    "import numpy as np\n",
    "\n",
    "a = np.array([[2, 4],\n",
    "             [5, -6]])\n",
    "print(f\"a = \\n{a}\\n\")"
   ]
  },
  {
   "cell_type": "code",
   "execution_count": 3,
   "id": "12ba62b8-f9e7-403d-a1fb-b885c3408d5f",
   "metadata": {},
   "outputs": [
    {
     "name": "stdout",
     "output_type": "stream",
     "text": [
      "[[ 0.87758256 -0.47942554  0.47942554  0.87758256]]\n"
     ]
    }
   ],
   "source": [
    "''' 어떤 벡터를 (원점을 기준으로)theta만큼 회전시켜주는 회전 행렬 '''\n",
    "def rot_mat(theta):\n",
    "    return np.array([[np.cos(theta), -np.sin(theta),\n",
    "                    np.sin(theta), np.cos(theta)]])\n",
    "\n",
    "theta = 0.5 # 라디안을 기준으로 한 각이며, \"1 rad = 180도 / 파이\"로 계산한다\n",
    "print(rot_mat(theta))"
   ]
  },
  {
   "cell_type": "code",
   "execution_count": 7,
   "id": "e3720d40-450d-4f6d-9cf2-0d281895979a",
   "metadata": {},
   "outputs": [
    {
     "name": "stdout",
     "output_type": "stream",
     "text": [
      "[[12]\n",
      " [-2]] (2, 1)\n",
      "[[12]\n",
      " [-2]] (2, 1)\n"
     ]
    }
   ],
   "source": [
    "a = np.array([[2, 4],\n",
    "             [5, -6]])\n",
    "b = np.array([[2], [2]])\n",
    "d = a.dot(b) # 행렬곱(내적) 계산\n",
    "print(d, d.shape)\n",
    "\n",
    "d_ = a @ b # 마찬가지로 행렬곱(내적) 계산이다\n",
    "print(d_, d_.shape)"
   ]
  },
  {
   "cell_type": "code",
   "execution_count": 10,
   "id": "e4365099-16d2-4b12-bbf3-236629a337e7",
   "metadata": {},
   "outputs": [
    {
     "name": "stdout",
     "output_type": "stream",
     "text": [
      "original:\n",
      " [[ 2  4]\n",
      " [ 5 -6]]\n",
      "[[ 2  5]\n",
      " [ 4 -6]]\n",
      "[[ 2  5]\n",
      " [ 4 -6]]\n",
      "[[ 0.1875   0.125  ]\n",
      " [ 0.15625 -0.0625 ]]\n"
     ]
    }
   ],
   "source": [
    "''' 전치 '''\n",
    "print(\"original:\\n\", a)\n",
    "print(a.transpose())\n",
    "print(np.transpose(a))\n",
    "\n",
    "''' 역행렬 '''\n",
    "# 역행렬은 어떤 n차 정사각행렬 a가 있을 때 이와 교환법칙을 만족하는 행렬곱을 수행하여 n차 정사각 단위행렬 E를 만들어내는 행렬을 말한다\n",
    "# 어떤 행렬 a에 대한 역행렬이 존재할 때 그것을 a inverse라고 읽는다\n",
    "# 어떤 행렬의 역행렬이 존재하기 위해서는 그 행렬의 행렬식(determinant)가 0이 되어서는 않된다(만약 0이라면 역행렬은 존재하지 않는다)\n",
    "# 역행렬 계산 시 행렬식이 0이 되는 상황을 singular라고 한다\n",
    "inv_a = np.linalg.inv(a)\n",
    "print(inv_a)"
   ]
  },
  {
   "cell_type": "code",
   "execution_count": 14,
   "id": "45de9e56-6530-4e7b-8230-c9efdb106751",
   "metadata": {},
   "outputs": [
    {
     "name": "stdout",
     "output_type": "stream",
     "text": [
      "[[0.375   0.5    ]\n",
      " [0.78125 0.375  ]]\n",
      "[[1. 0.]\n",
      " [0. 1.]]\n",
      "[[1. 0.]\n",
      " [0. 1.]]\n"
     ]
    }
   ],
   "source": [
    "print(inv_a * a) # 일반 곱 연산자를 사용하면 element-wise 곱으로 계산된다\n",
    "print(np.matmul(inv_a, a))\n",
    "print(inv_a.dot(a))"
   ]
  },
  {
   "cell_type": "code",
   "execution_count": null,
   "id": "d0c27db0-cb78-4dca-9011-aca1d2eb6d76",
   "metadata": {},
   "outputs": [],
   "source": [
    "1강 단위행렬과 영행렬 부터"
   ]
  }
 ],
 "metadata": {
  "kernelspec": {
   "display_name": "Python 3 (ipykernel)",
   "language": "python",
   "name": "python3"
  },
  "language_info": {
   "codemirror_mode": {
    "name": "ipython",
    "version": 3
   },
   "file_extension": ".py",
   "mimetype": "text/x-python",
   "name": "python",
   "nbconvert_exporter": "python",
   "pygments_lexer": "ipython3",
   "version": "3.12.4"
  }
 },
 "nbformat": 4,
 "nbformat_minor": 5
}
