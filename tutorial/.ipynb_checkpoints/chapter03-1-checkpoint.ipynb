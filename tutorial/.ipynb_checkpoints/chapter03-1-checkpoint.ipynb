{
 "cells": [
  {
   "cell_type": "code",
   "execution_count": null,
   "id": "df69af7a-b5da-4c58-9f7f-002f8799f788",
   "metadata": {},
   "outputs": [],
   "source": [
    "''' 참조 사이트 '''\n",
    "https://gaussian37.github.io/vision-concept-image_transformation/"
   ]
  },
  {
   "cell_type": "markdown",
   "id": "559a507d-b780-4bb1-b4d3-3e83c966f112",
   "metadata": {},
   "source": [
    "# Forward Kinematics(순기구학, 정기구학) Inverse Kinematics(역기구학)\n",
    "\n",
    "- <img src=\"https://cdn.fs.teachablecdn.com/ADNupMnWyR7kCWRvm76Laz/https://cdn.filestackcontent.com/JoaCo1pFRmCmohewZMBs\" width=\"600\" height=\"850\"/>\n",
    "- 위 그림의 end effector를 <span style=\"color: yellow\">**로봇의 끝점**</span> 이라고 한다\n",
    "- 위 로봇의 상태는 3개 점의 좌표로 나타내거나, 혹은 2개의 각도로 표기할 수 있다(이를 <span style=\"color: yellow\">**Degree of Freedom**</span>이라고 한다)\n",
    "- 만약 각도가 주어졌다면 회전(rotation)과 이동(translation) 연산을 통해 로봇 끝점의 좌표를 알아낼 수 있다\n",
    "    - 이를 <span style=\"color: red\">**순기구학(forward kinematics)**</span>라고 한다\n",
    "- 여기서 관심있는 것은 로봇 끝점이 특정 좌표에 도달하도록 하는 것으로, 이를 만족하는 joint(사람으로 치면 과절) 각도를 알아내는 것이 목표다\n",
    "    - 이를 <span style=\"color: red\">**역기구학(inverse kinematics)**</span>라고 한다"
   ]
  },
  {
   "cell_type": "markdown",
   "id": "9e144197-0005-4608-a43f-ed5d84884ee3",
   "metadata": {},
   "source": [
    "# Forward Kinematics(순기구학, 정구기구학)\n",
    "\n",
    "- <img src=\"https://cdn.fs.teachablecdn.com/ADNupMnWyR7kCWRvm76Laz/https://cdn.filestackcontent.com/JoaCo1pFRmCmohewZMBs\" width=\"400\" height=\"500\"/>\n",
    "- 위 그림에서 theta1과 theta2를 통해 O, P, Q(끝점) 점의 좌표(절대 좌표계 기준)를 계산하는 것이 순기구학의 목적이다\n",
    "- 위 그림의 순기구학 계산을 위한 3단계 과정\n",
    "    1. 각 joint에 frame 부여\n",
    "        - <img src=\"https://cdn.fs.teachablecdn.com/ADNupMnWyR7kCWRvm76Laz/https://cdn.filestackcontent.com/ZzXgBIUhTDiqYA4sQNrh\" width=\"400\" height=\"400\"/>\n",
    "    2. 부여된 frame들 사이의 Homogeneous Matrix(동차 행렬) 구하기\n",
    "        - <img src=\"https://cdn.fs.teachablecdn.com/ADNupMnWyR7kCWRvm76Laz/https://cdn.filestackcontent.com/zBV91vwRpCGWDO4Ffafg\" width=\"500\" height=\"500\"/>\n",
    "    3. 각 link 끝점(O, P, Q)의 world frame 좌표 계산\n",
    "        - <img src=\"https://cdn.fs.teachablecdn.com/ADNupMnWyR7kCWRvm76Laz/https://cdn.filestackcontent.com/xaquXe4JTaut6lg0Q1oS\" width=\"500\" height=\"800\"/>\n",
    "    4. 위 단계에서의 계산 결과에서 마지막 원소인 1을 제거한 결과가 각 link 끝 점의 world frame 좌표가 된다\n",
    "        - <img src=\"https://cdn.fs.teachablecdn.com/ADNupMnWyR7kCWRvm76Laz/https://cdn.filestackcontent.com/YEOlH8wqRu8EIIvxq5TO\" width=\"500\" height=\"700\"/>"
   ]
  },
  {
   "cell_type": "code",
   "execution_count": null,
   "id": "963ff946-4fd2-41b3-9d66-b67b7f098f95",
   "metadata": {},
   "outputs": [],
   "source": [
    "3장 순기구학 코드 구현 부터\n",
    "https://roadbalance_edu.teachable.com/courses/5cee42/lectures/48650228"
   ]
  }
 ],
 "metadata": {
  "kernelspec": {
   "display_name": "Python 3 (ipykernel)",
   "language": "python",
   "name": "python3"
  },
  "language_info": {
   "codemirror_mode": {
    "name": "ipython",
    "version": 3
   },
   "file_extension": ".py",
   "mimetype": "text/x-python",
   "name": "python",
   "nbconvert_exporter": "python",
   "pygments_lexer": "ipython3",
   "version": "3.12.4"
  }
 },
 "nbformat": 4,
 "nbformat_minor": 5
}
